{
  "cells": [
    {
      "cell_type": "markdown",
      "metadata": {
        "id": "0hLhuliurW6c"
      },
      "source": [
        "# Openpose 1.7.0 Demo"
      ]
    },
    {
      "cell_type": "code",
      "execution_count": null,
      "metadata": {
        "id": "hp8rTOJ30J-b"
      },
      "outputs": [],
      "source": [
        "# First, change the runtime type to \"GPU\".\n",
        "# Confirm runtime to GPU\n",
        "! nvcc --version\n",
        "! nvidia-smi"
      ]
    },
    {
      "cell_type": "code",
      "execution_count": null,
      "metadata": {
        "id": "lo-xpoUkK9mO"
      },
      "outputs": [],
      "source": [
        "from google.colab import drive\n",
        "drive.mount('/content/drive')"
      ]
    },
    {
      "cell_type": "code",
      "execution_count": null,
      "metadata": {
        "id": "h_ddqkdp0euj"
      },
      "outputs": [],
      "source": [
        "# Openpose version tag\n",
        "ver_openpose = \"v1.7.0\"\n",
        "! echo $ver_openpose"
      ]
    },
    {
      "cell_type": "code",
      "execution_count": null,
      "metadata": {
        "id": "WtlM7y630hKK"
      },
      "outputs": [],
      "source": [
        "# If CMake is old, Openpose build fails, so download the latest version\n",
        "# https://developercommunity.visualstudio.com/content/problem/354325/cmake-project-cannot-detect-cuda-10.html\n",
        "! cmake --version"
      ]
    },
    {
      "cell_type": "code",
      "execution_count": null,
      "metadata": {
        "id": "vjElcN2T0unQ"
      },
      "outputs": [],
      "source": [
        "# Rebuild the latest CMake as of 2021.03.03 (about 15 minutes)\n",
        "! wget -c \"https://github.com/Kitware/CMake/releases/download/v3.19.6/cmake-3.19.6.tar.gz\"\n",
        "! tar xf cmake-3.19.6.tar.gz\n",
        "! cd cmake-3.19.6 && ./configure && make && sudo make install"
      ]
    },
    {
      "cell_type": "code",
      "execution_count": null,
      "metadata": {
        "id": "nBqcGCVZ1OKs"
      },
      "outputs": [],
      "source": [
        "# Install library\n",
        "\n",
        "# Basic\n",
        "! sudo apt-get --assume-yes update\n",
        "! sudo apt-get --assume-yes install build-essential\n",
        "# OpenCV\n",
        "! sudo apt-get --assume-yes install libopencv-dev\n",
        "# General dependencies\n",
        "! sudo apt-get --assume-yes install libatlas-base-dev libprotobuf-dev libleveldb-dev libsnappy-dev libhdf5-serial-dev protobuf-compiler\n",
        "! sudo apt-get --assume-yes install --no-install-recommends libboost-all-dev\n",
        "# Remaining dependencies, 14.04\n",
        "! sudo apt-get --assume-yes install libgflags-dev libgoogle-glog-dev liblmdb-dev\n",
        "# Python3 libs\n",
        "! sudo apt-get --assume-yes install python3-setuptools python3-dev build-essential\n",
        "! sudo apt-get --assume-yes install python3-pip\n",
        "! sudo -H pip3 install --upgrade numpy protobuf opencv-python\n",
        "# OpenCL Generic\n",
        "! sudo apt-get --assume-yes install opencl-headers ocl-icd-opencl-dev\n",
        "! sudo apt-get --assume-yes install libviennacl-dev"
      ]
    },
    {
      "cell_type": "code",
      "execution_count": null,
      "metadata": {
        "id": "AxvRJiaK1QXt"
      },
      "outputs": [],
      "source": [
        "# Clone Openpose\n",
        "! git clone  --depth 1 -b \"$ver_openpose\" https://github.com/CMU-Perceptual-Computing-Lab/openpose.git"
      ]
    },
    {
      "cell_type": "code",
      "execution_count": 2,
      "metadata": {
        "id": "B7vM17cQ1v3p",
        "colab": {
          "base_uri": "https://localhost:8080/"
        },
        "outputId": "ca282fba-80b6-4915-e866-5d7c84c449bd"
      },
      "outputs": [
        {
          "output_type": "stream",
          "name": "stdout",
          "text": [
            "/bin/bash: line 0: cd: openpose: No such file or directory\n"
          ]
        }
      ],
      "source": [
        "# Create build directory\n",
        "! cd openpose && mkdir build && cd build"
      ]
    },
    {
      "cell_type": "code",
      "execution_count": null,
      "metadata": {
        "id": "bhCJ4zsf2AMa"
      },
      "outputs": [],
      "source": [
        "# Scenario 1 - Caffe not installed and OpenCV installed using apt-get\n",
        "! cd openpose/build && cmake ..\n",
        "\n",
        "# If you want to download the COCO model as well, execute the following command. (Please change \"# ! cd\" part to \"! cd\".)\n",
        "# ! cd openpose/build && cmake .. -D DOWNLOAD_BODY_COCO_MODEL=ON\n",
        "\n",
        "# If you want to download the MPI model as well, execute the following command.\n",
        "# ! cd openpose/build && cmake .. -D DOWNLOAD_BODY_MPI_MODEL=ON"
      ]
    },
    {
      "cell_type": "code",
      "execution_count": null,
      "metadata": {
        "id": "L4Zf78976MKN"
      },
      "outputs": [],
      "source": [
        "# Openpose Building\n",
        "! cd openpose/build && make -j`nproc`\n",
        "! cd openpose && mkdir output"
      ]
    },
    {
      "cell_type": "code",
      "execution_count": null,
      "metadata": {
        "id": "FHajFlRk50Ha"
      },
      "outputs": [],
      "source": [
        "# Run and check the sample\n",
        "# The output analysis result is placed under \"openpose/output\" from the folder icon on the left menu of the Colab screen.\n",
        "#! cd openpose && ./build/examples/openpose/openpose.bin --video examples/media/video.avi --display 0  --write_video ./output/openpose.avi"
      ]
    },
    {
      "cell_type": "markdown",
      "metadata": {
        "id": "ej_t6eo0NXgr"
      },
      "source": [
        "It takes \"Premium\" GPU 18.57 seconds to analyze the test, and 43.9 seconds for the \"Normal\" GPU to finish the test.\n",
        "\n",
        "\"Premium\" is approximately 7 times more expensive in terms of computing units (CU).\n",
        "\n",
        "\"Premium\" costs 13.08 CU/hour, \"Normal\" costs 1.96 CU/hour."
      ]
    },
    {
      "cell_type": "code",
      "execution_count": null,
      "metadata": {
        "id": "Vd8_X1jCRhQR"
      },
      "outputs": [],
      "source": [
        "#from google.colab import drive\n",
        "#drive.mount('/content/drive')"
      ]
    },
    {
      "cell_type": "code",
      "execution_count": null,
      "metadata": {
        "id": "rQwxJR40Ka52"
      },
      "outputs": [],
      "source": [
        "from google.colab import drive\n",
        "import os\n",
        "from datetime import datetime\n",
        "from datetime import date\n",
        "\n",
        "\n",
        "# mount Google Drive\n",
        "# When you mount it, you will be asked for permission, so allow it, copy the key, paste(Ctrl+V) it in the input field on the Colab side, and press Enter.\n",
        "drive.mount('/gdrive')\n",
        "\n",
        "# Google Drive root directory\n",
        "root_path = \"/gdrive/My Drive/GEHM_separated_videos\"\n",
        "#/content/drive/MyDrive/GEHM_separated_videos/20210323/20210323-Speaker___V2-0001.mov\n",
        "\n",
        "# Video path that you want to analyze on Google Drive (You can analyze the video on your own Google Drive by changing this value to a value you like)\n",
        "current_folder = \"20230310\"\n",
        "\n",
        "# specify filenames to process\n",
        "files_to_process = [\"20230310/20230310-SP01F.mp4\",\"20230310/20230310-SP04F.mp4\",\"20230310/20230310-SP05F.mp4\",\"20230310/20230310-SP02F.mp4\",\"20230310/20230310-SP07F.mp4\",\"20230310/20230310-SP03M.mp4\",\"20230310/20230310-SP06M.mp4\"]\n",
        "\n",
        "i = 0\n",
        "for file_path in files_to_process:\n",
        "  now = datetime.now()\n",
        "  today = date.today()\n",
        "  current_date = today.strftime(\"%B %d\")\n",
        "  current_time = now.strftime(\"%H:%M:%S\")\n",
        "  print(\"Starting to process the file \"+file_path+\" at \"+current_time+\", \"+current_date+\", \"+str(i+1)+\"/\"+str(len(files_to_process)))\n",
        "  i += 1\n",
        "\n",
        "  file_path_for_json = file_path.split(\"/\")[1][:-4]+\"_keypoints/\"\n",
        "  ! cd openpose && ./build/examples/openpose/openpose.bin --video \"$root_path/$file_path\" --render_pose 0 --display 0  --write_json \"$root_path/$current_folder/$file_path_for_json\"\n",
        "\n",
        "  now = datetime.now()\n",
        "  today = date.today()\n",
        "  current_date = today.strftime(\"%B %d\")\n",
        "  current_time = now.strftime(\"%H:%M:%S\")\n",
        "  print(\"Finished processing the file \"+file_path+\" at \"+current_time+\", \"+current_date)"
      ]
    },
    {
      "cell_type": "markdown",
      "metadata": {
        "id": "7tzywun1xBwL"
      },
      "source": [
        "It takes 90 min to process a 22 min videos with the \"Normal\" (non-premium) GPU."
      ]
    }
  ],
  "metadata": {
    "accelerator": "GPU",
    "colab": {
      "provenance": [],
      "machine_shape": "hm",
      "gpuClass": "premium"
    },
    "gpuClass": "premium",
    "kernelspec": {
      "display_name": "Python 3",
      "name": "python3"
    }
  },
  "nbformat": 4,
  "nbformat_minor": 0
}